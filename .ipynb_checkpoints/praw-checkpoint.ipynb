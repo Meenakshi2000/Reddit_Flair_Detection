{
 "cells": [
  {
   "cell_type": "code",
   "execution_count": 1,
   "metadata": {},
   "outputs": [],
   "source": [
    "import praw\n",
    "\n",
    "reddit = praw.Reddit(client_id='8COttBbmIJSb3w',\n",
    "                     client_secret='-zZqO_s0SQ-kfgyk3Dt9Y8JUXAM',\n",
    "                     username='himanshu_garg_',\n",
    "                     password='qwertyqwerty',\n",
    "                     user_agent='himanshu_garg_')"
   ]
  },
  {
   "cell_type": "code",
   "execution_count": 3,
   "metadata": {},
   "outputs": [],
   "source": [
    "url = 'https://www.reddit.com/r/india/comments/cd6h01/flipkart_big_shopping_days_thread_15th18th/'\n",
    "subreddit = reddit.submission(url=url)"
   ]
  },
  {
   "cell_type": "code",
   "execution_count": 8,
   "metadata": {},
   "outputs": [
    {
     "name": "stdout",
     "output_type": "stream",
     "text": [
      "Flipkart Big Shopping days thread. (15th-18th)\n",
      "\n",
      "Sale starts on 15th @ 12pm, exclusive first access for Flipkart plus members from 8am.\n",
      "\n",
      "Offer: 10% instant discount on SBI Credit cards.\n",
      "\n",
      "Please refrain from using affiliated links, such comments will be removed without any warning.\n",
      "\n",
      "Link to [Amazon Prime day thread.](https://www.reddit.com/r/india/comments/cd5vx0/amazon_prime_day_deals_15th_16th_july/)\n"
     ]
    }
   ],
   "source": [
    "print(subreddit.title)\n",
    "print(\"\")\n",
    "print(subreddit.selftext)"
   ]
  },
  {
   "cell_type": "code",
   "execution_count": null,
   "metadata": {},
   "outputs": [],
   "source": []
  }
 ],
 "metadata": {
  "kernelspec": {
   "display_name": "Python 3",
   "language": "python",
   "name": "python3"
  },
  "language_info": {
   "codemirror_mode": {
    "name": "ipython",
    "version": 3
   },
   "file_extension": ".py",
   "mimetype": "text/x-python",
   "name": "python",
   "nbconvert_exporter": "python",
   "pygments_lexer": "ipython3",
   "version": "3.6.8"
  }
 },
 "nbformat": 4,
 "nbformat_minor": 2
}
