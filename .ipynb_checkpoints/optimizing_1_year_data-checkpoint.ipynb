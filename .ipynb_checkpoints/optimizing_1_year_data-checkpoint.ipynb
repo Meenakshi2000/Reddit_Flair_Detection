{
 "cells": [
  {
   "cell_type": "code",
   "execution_count": 1,
   "metadata": {},
   "outputs": [],
   "source": [
    "import pandas as pd\n",
    "import matplotlib.pyplot as plt"
   ]
  },
  {
   "cell_type": "code",
   "execution_count": 2,
   "metadata": {},
   "outputs": [],
   "source": [
    "%matplotlib inline\n",
    "\n",
    "df = pd.read_csv('optimized_1_year_data.csv')\n"
   ]
  },
  {
   "cell_type": "code",
   "execution_count": 3,
   "metadata": {},
   "outputs": [
    {
     "name": "stdout",
     "output_type": "stream",
     "text": [
      "AskIndia  =  16053\n",
      "Non-Political  =  28442\n",
      "Politics  =  25283\n",
      "Policy/Economy  =  3658\n",
      "Sports  =  2392\n",
      "Food  =  1246\n",
      "Science/Technology  =  4923\n",
      "Business/Finance  =  7452\n",
      "Photography  =  2501\n",
      "Reddiquette  =  2920\n",
      "<class 'pandas.core.frame.DataFrame'>\n",
      "RangeIndex: 94870 entries, 0 to 94869\n",
      "Data columns (total 3 columns):\n",
      "TITLE    94870 non-null object\n",
      "BODY     24236 non-null object\n",
      "FLAIR    94870 non-null object\n",
      "dtypes: object(3)\n",
      "memory usage: 2.2+ MB\n"
     ]
    },
    {
     "data": {
      "image/png": "[encoded data removed]",
      "text/plain": [
       "<Figure size 720x360 with 1 Axes>"
      ]
     },
     "metadata": {
      "needs_background": "light"
     },
     "output_type": "display_data"
    }
   ],
   "source": [
    "plt.figure(figsize=(10,5))\n",
    "df.FLAIR.value_counts().plot(kind='bar', legend=False, grid=True)\n",
    "plt.title(\"No of occurances of each flair from June 1st 2018 to July 15th 2019\")\n",
    "\n",
    "allowed_tags = ['AskIndia','Non-Political','Politics','Policy/Economy','Sports','Food','Science/Technology','Business/Finance','Photography','Reddiquette']\n",
    "\n",
    "for i in allowed_tags:\n",
    "    print(i, \" = \" ,int(df.FLAIR.str.count(i).sum()))\n",
    "\n",
    "df.info()"
   ]
  },
  {
   "cell_type": "code",
   "execution_count": 4,
   "metadata": {},
   "outputs": [],
   "source": [
    "# giving each flair a number\n",
    "df['category_id'] = df['FLAIR'].factorize()[0]\n",
    "category_id_df = df[['FLAIR', 'category_id']].drop_duplicates().sort_values('category_id')\n",
    "category_to_id = dict(category_id_df.values)\n",
    "id_to_category = dict(category_id_df[['category_id', 'FLAIR']].values)"
   ]
  },
  {
   "cell_type": "code",
   "execution_count": 5,
   "metadata": {},
   "outputs": [],
   "source": [
    "df_temp = df.head(20000)"
   ]
  },
  {
   "cell_type": "code",
   "execution_count": 6,
   "metadata": {},
   "outputs": [
    {
     "name": "stdout",
     "output_type": "stream",
     "text": [
      "started\n",
      "a\n",
      "# 'AskIndia':\n",
      "  . Most correlated unigrams:\n",
      ". askindia\n",
      ". songs\n",
      "  . Most correlated bigrams:\n",
      ". songs apps\n",
      ". apps google\n",
      "a\n",
      "# 'Business/Finance':\n",
      "  . Most correlated unigrams:\n",
      ". infotainment\n",
      ". filmykida\n",
      "  . Most correlated bigrams:\n",
      ". manufacturers india\n",
      ". filmykida infotainment\n",
      "a\n",
      "# 'Food':\n",
      "  . Most correlated unigrams:\n",
      ". chicken\n",
      ". recipe\n",
      "  . Most correlated bigrams:\n",
      ". fry recipe\n",
      ". street food\n",
      "a\n",
      "# 'Non-Political':\n",
      "  . Most correlated unigrams:\n",
      ". modi\n",
      ". np\n",
      "  . Most correlated bigrams:\n",
      ". narendra modi\n",
      ". rahul gandhi\n",
      "a\n",
      "# 'Photography':\n",
      "  . Most correlated unigrams:\n",
      ". thekkadi\n",
      ". fascinates\n",
      "  . Most correlated bigrams:\n",
      ". thekkadi kerala\n",
      ". delhi fascinates\n",
      "a\n",
      "# 'Policy/Economy':\n",
      "  . Most correlated unigrams:\n",
      ". economy\n",
      ". report\n",
      "  . Most correlated bigrams:\n",
      ". data protection\n",
      ". free btc\n",
      "a\n",
      "# 'Politics':\n",
      "  . Most correlated unigrams:\n",
      ". bjp\n",
      ". modi\n",
      "  . Most correlated bigrams:\n",
      ". pm modi\n",
      ". rahul gandhi\n",
      "a\n",
      "# 'Reddiquette':\n",
      "  . Most correlated unigrams:\n",
      ". inspire\n",
      ". rindia\n",
      "  . Most correlated bigrams:\n",
      ". weekly depression\n",
      ". state hate\n",
      "a\n",
      "# 'Science/Technology':\n",
      "  . Most correlated unigrams:\n",
      ". samsung\n",
      ". bmt\n",
      "  . Most correlated bigrams:\n",
      ". wholesale price\n",
      ". samsung galaxy\n",
      "a\n",
      "# 'Sports':\n",
      "  . Most correlated unigrams:\n",
      ". fifa\n",
      ". cup\n",
      "  . Most correlated bigrams:\n",
      ". fifa world\n",
      ". world cup\n"
     ]
    }
   ],
   "source": [
    "# seeing unigrams and bigrams of each FLAIR to remove wrongly tagged data\n",
    "\n",
    "from sklearn.feature_selection import chi2\n",
    "from sklearn.feature_extraction.text import TfidfVectorizer\n",
    "import numpy as np\n",
    "\n",
    "tfidf = TfidfVectorizer(sublinear_tf=True, min_df=1, norm='l2', encoding='latin-1', ngram_range=(1, 3), stop_words='english')\n",
    "features = tfidf.fit_transform(df_temp.TITLE).toarray()\n",
    "labels = df_temp.category_id\n",
    "features.shape\n",
    "\n",
    "N = 2\n",
    "print(\"started\")\n",
    "for FLAIR, category_id in sorted(category_to_id.items()):\n",
    "    \n",
    "  features_chi2 = chi2(features, labels == category_id); print(\"a\")\n",
    "  indices = np.argsort(features_chi2[0])\n",
    "  feature_names = np.array(tfidf.get_feature_names())[indices]\n",
    "  unigrams = [v for v in feature_names if len(v.split(' ')) == 1]\n",
    "  bigrams = [v for v in feature_names if len(v.split(' ')) == 2]\n",
    "  print(\"# '{}':\".format(FLAIR))\n",
    "  print(\"  . Most correlated unigrams:\\n. {}\".format('\\n. '.join(unigrams[-N:])))\n",
    "  print(\"  . Most correlated bigrams:\\n. {}\".format('\\n. '.join(bigrams[-N:])))"
   ]
  },
  {
   "cell_type": "code",
   "execution_count": 39,
   "metadata": {},
   "outputs": [
    {
     "name": "stdout",
     "output_type": "stream",
     "text": [
      "TITLE,BODY,FLAIR\n",
      "\n"
     ]
    }
   ],
   "source": [
    "# to delete wrongly tagged data \n",
    "\n",
    "with open('temp.csv', mode='w') as file:\n",
    "    writer = csv.writer(file, delimiter=',', quotechar='\"', quoting=csv.QUOTE_MINIMAL)\n",
    "\n",
    "file_from = open(\"optimized_1_year_data.csv\",\"r\")\n",
    "data=file_from.readlines()\n",
    "n=len(data)\n",
    "\n",
    "\n",
    "for i in range(len(0,n-1)):\n",
    "    temp = list(map(data[i].split(\" \")))\n",
    "    if (temp[2]==\"Business/Finance\" and (\"infotainment\" in temp[0] or \"infotainment\" in temp[1])):\n",
    "        continue   \n",
    "    if (temp[2]==\"Business/Finance\" and (\"film\" in temp[0] or \"film\" in temp[1])):\n",
    "        continue\n",
    "    if (temp[2]==\"Non-Political\" and (\"modi\" in temp[0] or \"modi\" in temp[1])):\n",
    "        continue\n",
    "    if (temp[2]==\"Non-Political\" and (\"narendra\" in temp[0] or \"narendra\" in temp[1])):\n",
    "        continue\n",
    "    if (temp[2]==\"Non-Political\" and (\"rahul\" in temp[0] or \"rahul\" in temp[1])):\n",
    "        continue\n",
    "    \n",
    "    writer.writerow(temp)\n",
    "    \n",
    "\n",
    "    \n",
    "df = pd.read_csv('temp.csv')\n",
    "df.info()"
   ]
  },
  {
   "cell_type": "code",
   "execution_count": null,
   "metadata": {},
   "outputs": [],
   "source": []
  }
 ],
 "metadata": {
  "kernelspec": {
   "display_name": "Python 3",
   "language": "python",
   "name": "python3"
  },
  "language_info": {
   "codemirror_mode": {
    "name": "ipython",
    "version": 3
   },
   "file_extension": ".py",
   "mimetype": "text/x-python",
   "name": "python",
   "nbconvert_exporter": "python",
   "pygments_lexer": "ipython3",
   "version": "3.6.8"
  }
 },
 "nbformat": 4,
 "nbformat_minor": 2
}
